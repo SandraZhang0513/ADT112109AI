{
 "cells": [
  {
   "cell_type": "code",
   "execution_count": 7,
   "id": "8cc57ac1-123e-486d-b67d-c89475aa3226",
   "metadata": {
    "scrolled": true
   },
   "outputs": [
    {
     "name": "stdin",
     "output_type": "stream",
     "text": [
      "請輸入身高(cm)： 163\n",
      "請輸入體重(kg)： 56\n"
     ]
    }
   ],
   "source": [
    "BMI = 0\n",
    "height = int(input(\"請輸入身高(cm)：\"))\n",
    "weight = int(input(\"請輸入體重(kg)：\"))"
   ]
  },
  {
   "cell_type": "code",
   "execution_count": 12,
   "id": "99f19392-f3e0-492a-81cf-54be609a06c6",
   "metadata": {},
   "outputs": [
    {
     "name": "stdout",
     "output_type": "stream",
     "text": [
      "BMI = 21.077195\n",
      "\n",
      "體重適中\n"
     ]
    }
   ],
   "source": [
    "BMI = (weight) / ((height/100)*(height/100))\n",
    "print(\"BMI = %f\\n\" % (BMI))\n",
    "if BMI < 18.5:\n",
    "    print(\"體重過輕\")\n",
    "if BMI >= 18.5 and BMI < 24:\n",
    "    print(\"體重適中\")\n",
    "if BMI >= 24:\n",
    "    print(\"體重過重\")"
   ]
  }
 ],
 "metadata": {
  "kernelspec": {
   "display_name": "Python [conda env:py37]",
   "language": "python",
   "name": "conda-env-py37-py"
  },
  "language_info": {
   "codemirror_mode": {
    "name": "ipython",
    "version": 3
   },
   "file_extension": ".py",
   "mimetype": "text/x-python",
   "name": "python",
   "nbconvert_exporter": "python",
   "pygments_lexer": "ipython3",
   "version": "3.7.16"
  }
 },
 "nbformat": 4,
 "nbformat_minor": 5
}
